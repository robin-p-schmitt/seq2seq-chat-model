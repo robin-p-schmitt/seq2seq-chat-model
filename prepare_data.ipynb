{
 "cells": [
  {
   "cell_type": "code",
   "execution_count": 37,
   "metadata": {},
   "outputs": [],
   "source": [
    "import re\n",
    "from pathlib import Path\n",
    "from datetime import datetime\n",
    "import time\n",
    "import os\n",
    "from tqdm import tqdm\n",
    "from itertools import groupby\n",
    "from operator import itemgetter"
   ]
  },
  {
   "cell_type": "code",
   "execution_count": 48,
   "metadata": {},
   "outputs": [
    {
     "name": "stdout",
     "output_type": "stream",
     "text": [
      "hello\n",
      "hello\n",
      "hello\n",
      "bye\n",
      "bye\n",
      "bye\n",
      "hello\n",
      "hello\n",
      "hello\n",
      "bye\n",
      "bye\n",
      "bye\n"
     ]
    }
   ],
   "source": [
    "test = [(\"1\", \"hello\")] * 3 + [(\"2\", \"bye\")] * 3 + [(\"1\", \"hello\")] * 3 + [(\"2\", \"bye\")] * 3\n",
    "for i, group in groupby(test, key = itemgetter(0)):\n",
    "    for j, text in group:\n",
    "        print(text)\n"
   ]
  },
  {
   "cell_type": "code",
   "execution_count": 53,
   "metadata": {},
   "outputs": [],
   "source": [
    "def prepare_whatsapp_data(directory):\n",
    "    def get_date_from_msg(msg):\n",
    "        date = re.findall(r\"(\\d+/\\d+/\\d+, \\d+:\\d+) -\", msg)\n",
    "\n",
    "        if date:\n",
    "            return time.mktime(datetime.strptime(date[0], r\"%m/%d/%y, %H:%M\").timetuple())\n",
    "        else:\n",
    "            return 0\n",
    "        \n",
    "    def get_sorted_sequences(filename):\n",
    "        f = open(filename, \"r\", encoding = \"utf-8\")\n",
    "        messages = []\n",
    "        index = 0\n",
    "        for line in f:\n",
    "            if re.match(r\"\\d+/\\d+/\\d+, \\d+:\\d+\", line):\n",
    "                messages.append(line)\n",
    "                index += 1\n",
    "            else:\n",
    "                messages[index - 1] += line\n",
    "\n",
    "        messages.sort(key = get_date_from_msg)\n",
    "\n",
    "        return messages\n",
    "        \n",
    "    for filename in Path(directory).glob(\"*.txt\"):\n",
    "        # get head and tail of path\n",
    "        split = os.path.split(filename)\n",
    "        # create new \"edited\" directory\n",
    "        path = os.path.join(split[0], \"edited\")\n",
    "        # create directory if not existant\n",
    "        if not os.path.exists(path):\n",
    "            os.mkdir(path)\n",
    "        # start a new file for the current whatsapp chat\n",
    "        with open(os.path.join(split[0], \"edited\", split[1]), \"w+\", encoding = \"utf-8\") as f:\n",
    "            # get list of messages sorted by time\n",
    "            messages = get_sorted_sequences(filename)\n",
    "            # get list of tuples of author and message for every message\n",
    "            messages = [(author, text.strip()) for msg in messages for author, text in re.findall(r\".+? - (.+?): (.+)\", msg, flags = re.DOTALL)]\n",
    "            # group consecutive messages of the same author\n",
    "            groups = groupby(messages, key = itemgetter(0))\n",
    "            # get list of grouped messages where consecutive texts of one author are separated by \"<new>\"\"\n",
    "            messages = [\" <new> \".join([msg for author, msg in group]) for i, group in groups]\n",
    "            \n",
    "            for i in range(len(messages) - 1):\n",
    "                f.write(messages[i] + \"\\t\" + messages[i + 1] + \"\\n\")\n",
    "            "
   ]
  },
  {
   "cell_type": "code",
   "execution_count": 27,
   "metadata": {},
   "outputs": [
    {
     "data": {
      "text/plain": [
       "['he', 'he']"
      ]
     },
     "execution_count": 27,
     "metadata": {},
     "output_type": "execute_result"
    }
   ],
   "source": [
    "re.findall(\"(he)\", \"hehe\")"
   ]
  },
  {
   "cell_type": "code",
   "execution_count": 52,
   "metadata": {},
   "outputs": [],
   "source": [
    "prepare_whatsapp_data(\"chats\")"
   ]
  }
 ],
 "metadata": {
  "kernelspec": {
   "display_name": "Python 3",
   "language": "python",
   "name": "python3"
  },
  "language_info": {
   "codemirror_mode": {
    "name": "ipython",
    "version": 3
   },
   "file_extension": ".py",
   "mimetype": "text/x-python",
   "name": "python",
   "nbconvert_exporter": "python",
   "pygments_lexer": "ipython3",
   "version": "3.7.9"
  }
 },
 "nbformat": 4,
 "nbformat_minor": 4
}
